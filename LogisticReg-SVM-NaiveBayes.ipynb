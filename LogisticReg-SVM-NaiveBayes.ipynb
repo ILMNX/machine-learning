{
  "nbformat": 4,
  "nbformat_minor": 0,
  "metadata": {
    "colab": {
      "provenance": [],
      "authorship_tag": "ABX9TyOLuK0GdglUP2wOTNdapAsw",
      "include_colab_link": true
    },
    "kernelspec": {
      "name": "python3",
      "display_name": "Python 3"
    },
    "language_info": {
      "name": "python"
    }
  },
  "cells": [
    {
      "cell_type": "markdown",
      "metadata": {
        "id": "view-in-github",
        "colab_type": "text"
      },
      "source": [
        "<a href=\"https://colab.research.google.com/github/ILMNX/machine-learning/blob/main/LogisticReg-SVM-NaiveBayes.ipynb\" target=\"_parent\"><img src=\"https://colab.research.google.com/assets/colab-badge.svg\" alt=\"Open In Colab\"/></a>"
      ]
    },
    {
      "cell_type": "markdown",
      "source": [
        "## Library"
      ],
      "metadata": {
        "id": "rhoMl5a9a7mF"
      }
    },
    {
      "cell_type": "code",
      "execution_count": null,
      "metadata": {
        "id": "r28TKtiOau0G"
      },
      "outputs": [],
      "source": [
        "import pandas as pd\n",
        "from sklearn.model_selection import train_test_split\n",
        "from sklearn.preprocessing import LabelEncoder, StandardScaler\n",
        "from sklearn.linear_model import LogisticRegression\n",
        "from sklearn.svm import SVC\n",
        "from sklearn.naive_bayes import GaussianNB\n",
        "from sklearn.metrics import accuracy_score"
      ]
    },
    {
      "cell_type": "markdown",
      "source": [
        "## Data Set"
      ],
      "metadata": {
        "id": "imxZdUONbUO7"
      }
    },
    {
      "cell_type": "code",
      "source": [
        "df = pd.read_csv(\"https://github.com/adliif/dataset/raw/main/gender.csv\")\n",
        "df.dropna(inplace=True)\n"
      ],
      "metadata": {
        "id": "tMYY0SKLbRtJ"
      },
      "execution_count": null,
      "outputs": []
    },
    {
      "cell_type": "markdown",
      "source": [
        "## Preprocessing"
      ],
      "metadata": {
        "id": "eStanchsbqCw"
      }
    },
    {
      "cell_type": "code",
      "source": [
        "label_encoder = LabelEncoder()\n",
        "df['gender'] = label_encoder.fit_transform(df['gender'])"
      ],
      "metadata": {
        "id": "8Wa4oMFBbsAU"
      },
      "execution_count": null,
      "outputs": []
    },
    {
      "cell_type": "code",
      "source": [
        "scaler = StandardScaler()\n",
        "scaled_features = scaler.fit_transform(df.drop('gender', axis=1))"
      ],
      "metadata": {
        "id": "PV2xF1O9Thuh"
      },
      "execution_count": null,
      "outputs": []
    },
    {
      "cell_type": "markdown",
      "source": [
        "## Membagi Data"
      ],
      "metadata": {
        "id": "kyV0oSR3b5_4"
      }
    },
    {
      "cell_type": "code",
      "source": [
        "X_train, X_test, y_train, y_test = train_test_split(scaled_features, df['gender'], test_size=0.2, random_state=42)"
      ],
      "metadata": {
        "id": "_mUMR4IGb8eA"
      },
      "execution_count": null,
      "outputs": []
    },
    {
      "cell_type": "markdown",
      "source": [
        "## Modeling Data"
      ],
      "metadata": {
        "id": "3o0bPpIIcA4A"
      }
    },
    {
      "cell_type": "code",
      "source": [
        "dataModels = {'Algoritma Logistic Regression': LogisticRegression(),\n",
        "              'Algoritma SVM': SVC(),\n",
        "              'Algoritma Naive Bayes': GaussianNB()}"
      ],
      "metadata": {
        "id": "bat1MR8Yb_9a"
      },
      "execution_count": null,
      "outputs": []
    },
    {
      "cell_type": "code",
      "source": [
        "best_model = None\n",
        "best_score = 0\n",
        "\n",
        "for name, model in dataModels.items():\n",
        "    model.fit(X_train, y_train)\n",
        "    y_pred = model.predict(X_test)\n",
        "    score = accuracy_score(y_test, y_pred)\n",
        "    print(f\"{name} accuracy score: {score}\")\n",
        "    if score > 0.7 and score > best_score:\n",
        "        best_score = score\n",
        "        best_model = (name, model)\n"
      ],
      "metadata": {
        "colab": {
          "base_uri": "https://localhost:8080/"
        },
        "id": "3gCGqZudcUMm",
        "outputId": "f9e4fe1a-cf73-425f-fabf-31b85cc621b4"
      },
      "execution_count": null,
      "outputs": [
        {
          "output_type": "stream",
          "name": "stdout",
          "text": [
            "Algoritma Logistic Regression accuracy score: 0.961038961038961\n",
            "Algoritma SVM accuracy score: 0.967032967032967\n",
            "Algoritma Naive Bayes accuracy score: 0.964035964035964\n"
          ]
        }
      ]
    },
    {
      "cell_type": "code",
      "source": [
        "print(\"\\nKesimpulan:\")\n",
        "for name, model in dataModels.items():\n",
        "    print(f\"{name} memiliki akurasi {accuracy_score(y_test, model.predict(X_test))}\")\n",
        "\n",
        "print(f\"\\nModel terbaik: {best_model[0]} dengan akurasi {best_score}\")"
      ],
      "metadata": {
        "colab": {
          "base_uri": "https://localhost:8080/"
        },
        "id": "KjchoHGvchiu",
        "outputId": "89145ee6-80b0-42b6-a061-c8897da8af0a"
      },
      "execution_count": null,
      "outputs": [
        {
          "output_type": "stream",
          "name": "stdout",
          "text": [
            "\n",
            "Kesimpulan:\n",
            "Algoritma Logistic Regression memiliki akurasi 0.961038961038961\n",
            "Algoritma SVM memiliki akurasi 0.967032967032967\n",
            "Algoritma Naive Bayes memiliki akurasi 0.964035964035964\n",
            "\n",
            "Model terbaik: Algoritma SVM dengan akurasi 0.967032967032967\n"
          ]
        }
      ]
    }
  ]
}