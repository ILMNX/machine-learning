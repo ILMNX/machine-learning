{
  "nbformat": 4,
  "nbformat_minor": 0,
  "metadata": {
    "colab": {
      "provenance": [],
      "authorship_tag": "ABX9TyO9Me8dk+OAst5cNEtLKrRH",
      "include_colab_link": true
    },
    "kernelspec": {
      "name": "python3",
      "display_name": "Python 3"
    },
    "language_info": {
      "name": "python"
    }
  },
  "cells": [
    {
      "cell_type": "markdown",
      "metadata": {
        "id": "view-in-github",
        "colab_type": "text"
      },
      "source": [
        "<a href=\"https://colab.research.google.com/github/ILMNX/machine-learning/blob/main/naive-bayes.ipynb\" target=\"_parent\"><img src=\"https://colab.research.google.com/assets/colab-badge.svg\" alt=\"Open In Colab\"/></a>"
      ]
    },
    {
      "cell_type": "code",
      "source": [
        "!pip install numpy"
      ],
      "metadata": {
        "colab": {
          "base_uri": "https://localhost:8080/"
        },
        "id": "LW29Nl90nujg",
        "outputId": "c098634c-1175-4198-e05b-f06be716fb24"
      },
      "execution_count": null,
      "outputs": [
        {
          "output_type": "stream",
          "name": "stdout",
          "text": [
            "Requirement already satisfied: numpy in /usr/local/lib/python3.10/dist-packages (1.25.2)\n"
          ]
        }
      ]
    },
    {
      "cell_type": "code",
      "execution_count": null,
      "metadata": {
        "colab": {
          "base_uri": "https://localhost:8080/"
        },
        "id": "SIvNRZHAl9VY",
        "outputId": "77f9e172-9010-4833-9dd3-b9b12669bfb4"
      },
      "outputs": [
        {
          "output_type": "stream",
          "name": "stdout",
          "text": [
            "Probabilitas hujan: 0.9988011645829765\n",
            "Probabilitas tidak hujan: 0.0011988354170234623\n"
          ]
        }
      ],
      "source": [
        "import numpy as np\n",
        "\n",
        "def naive_bayes_inference(symptoms, disease, knowledge_base):\n",
        "    probabilities = {}\n",
        "    for symptom, value in symptoms.items():\n",
        "        for d, prob in knowledge_base[symptom][disease].items():\n",
        "            if value == 'Ya':\n",
        "                probabilities[d] = probabilities.get(d, 1) * prob\n",
        "            else:\n",
        "                probabilities[d] = probabilities.get(d, 1) * (1 - prob)\n",
        "\n",
        "    return probabilities\n",
        "\n",
        "def normalize(probabilities):\n",
        "    total = sum(probabilities.values())\n",
        "    for key in probabilities:\n",
        "        probabilities[key] /= total\n",
        "    return probabilities\n",
        "\n",
        "knowledge_base = {\n",
        "    'Cuaca Cerah': {\n",
        "        'Hujan': {'Ya': 0.1, 'Tidak': 0.9},\n",
        "        'Tidak Hujan': {'Ya': 0.9, 'Tidak': 0.1}\n",
        "    },\n",
        "    'Kelembaban Tinggi': {\n",
        "        'Hujan': {'Ya': 0.9, 'Tidak': 0.1},\n",
        "        'Tidak Hujan': {'Ya': 0.2, 'Tidak': 0.8}\n",
        "    },\n",
        "    'Angin Kencang': {\n",
        "        'Hujan': {'Ya': 0.7, 'Tidak': 0.3},\n",
        "        'Tidak Hujan': {'Ya': 0.3, 'Tidak': 0.7}\n",
        "    },\n",
        "    'Tekanan Udara Rendah': {\n",
        "        'Hujan': {'Ya': 0.8, 'Tidak': 0.2},\n",
        "        'Tidak Hujan': {'Ya': 0.3, 'Tidak': 0.7}\n",
        "    },\n",
        "    'Suhu Rendah': {\n",
        "        'Hujan': {'Ya': 0.6, 'Tidak': 0.4},\n",
        "        'Tidak Hujan': {'Ya': 0.4, 'Tidak': 0.6}\n",
        "    },\n",
        "    'Awan Gelap': {\n",
        "        'Hujan': {'Ya': 0.9, 'Tidak': 0.1},\n",
        "        'Tidak Hujan': {'Ya': 0.3, 'Tidak': 0.7}\n",
        "    }\n",
        "}\n",
        "\n",
        "weather_conditions = {\n",
        "    'Cuaca Cerah': 'Tidak',\n",
        "    'Kelembaban Tinggi': 'Ya',\n",
        "    'Angin Kencang': 'Tidak',\n",
        "    'Tekanan Udara Rendah': 'Ya',\n",
        "    'Suhu Rendah': 'Tidak',\n",
        "    'Awan Gelap': 'Ya'\n",
        "}\n",
        "\n",
        "outcome = 'Hujan'\n",
        "\n",
        "probabilities = naive_bayes_inference(weather_conditions, outcome, knowledge_base)\n",
        "probabilities = normalize(probabilities)\n",
        "\n",
        "print(\"Probabilitas hujan:\", probabilities['Ya'])\n",
        "print(\"Probabilitas tidak hujan:\", probabilities['Tidak'])\n"
      ]
    },
    {
      "cell_type": "code",
      "source": [
        "# Langkah 1: Probabilitas Prior\n",
        "total_cases = 5\n",
        "hujan_cases = 2\n",
        "tidak_hujan_cases = 3\n",
        "\n",
        "prior_hujan = hujan_cases / total_cases\n",
        "prior_tidak_hujan = tidak_hujan_cases / total_cases\n",
        "\n",
        "print(\"Langkah 1: Probabilitas Prior:\")\n",
        "print(\"Probabilitas prior untuk Hujan:\", prior_hujan)\n",
        "print(\"Probabilitas prior untuk Tidak Hujan:\", prior_tidak_hujan)\n",
        "\n",
        "# Langkah 2: Probabilitas Kondisional\n",
        "conditional_probabilities = {\n",
        "    'Cuaca Cerah=Tidak': {'Hujan': 1/2, 'Tidak Hujan': 1/3},\n",
        "    'Kelembaban Tinggi=Ya': {'Hujan': 1/2, 'Tidak Hujan': 2/3},\n",
        "    'Angin Kencang=Tidak': {'Hujan': 1/2, 'Tidak Hujan': 2/3},\n",
        "    'Tekanan Udara Rendah=Ya': {'Hujan': 1/2, 'Tidak Hujan': 1/3},\n",
        "    'Suhu Rendah=Tidak': {'Hujan': 1/2, 'Tidak Hujan': 2/3},\n",
        "    'Awan Gelap=Ya': {'Hujan': 1/2, 'Tidak Hujan': 1/3}\n",
        "}\n",
        "\n",
        "print(\"\\nLangkah 2: Probabilitas Kondisional:\")\n",
        "for key, values in conditional_probabilities.items():\n",
        "    print(key + \"|Hujan:\", values['Hujan'])\n",
        "    print(key + \"|Tidak Hujan:\", values['Tidak Hujan'])\n",
        "\n",
        "# Langkah 3: Probabilitas Posterior\n",
        "likelihood_hujan = 1/2 * 1/2 * 1/2 * 1/2 * 1/2 * 1/2\n",
        "posterior_hujan_cuaca = likelihood_hujan * prior_hujan\n",
        "\n",
        "# Hitung probabilitas posterior untuk Tidak Hujan|Cuaca\n",
        "likelihood_tidak_hujan = 1/3 * 2/3 * 2/3 * 1/3 * 2/3 * 1/3\n",
        "posterior_tidak_hujan_cuaca = likelihood_tidak_hujan * prior_tidak_hujan\n",
        "\n",
        "print(\"\\nLangkah 3: Probabilitas Posterior:\")\n",
        "print(\"Probabilitas posterior untuk Hujan|Cuaca:\", posterior_hujan_cuaca)\n",
        "print(\"Probabilitas posterior untuk Tidak Hujan|Cuaca:\", posterior_tidak_hujan_cuaca)\n",
        "\n",
        "# Langkah 4: Prediksi\n",
        "if posterior_hujan_cuaca > posterior_tidak_hujan_cuaca:\n",
        "    prediksi = 'Hujan'\n",
        "else:\n",
        "    prediksi = 'Tidak Hujan'\n",
        "\n",
        "print(\"\\nLangkah 4: Prediksi:\")\n",
        "print(\"Prediksi akhir:\", prediksi)\n"
      ],
      "metadata": {
        "colab": {
          "base_uri": "https://localhost:8080/"
        },
        "id": "awayHwazrMBZ",
        "outputId": "4afc8a17-d623-4564-b7c2-19673d16bb83"
      },
      "execution_count": null,
      "outputs": [
        {
          "output_type": "stream",
          "name": "stdout",
          "text": [
            "Langkah 1: Probabilitas Prior:\n",
            "Probabilitas prior untuk Hujan: 0.4\n",
            "Probabilitas prior untuk Tidak Hujan: 0.6\n",
            "\n",
            "Langkah 2: Probabilitas Kondisional:\n",
            "Cuaca Cerah=Tidak|Hujan: 0.5\n",
            "Cuaca Cerah=Tidak|Tidak Hujan: 0.3333333333333333\n",
            "Kelembaban Tinggi=Ya|Hujan: 0.5\n",
            "Kelembaban Tinggi=Ya|Tidak Hujan: 0.6666666666666666\n",
            "Angin Kencang=Tidak|Hujan: 0.5\n",
            "Angin Kencang=Tidak|Tidak Hujan: 0.6666666666666666\n",
            "Tekanan Udara Rendah=Ya|Hujan: 0.5\n",
            "Tekanan Udara Rendah=Ya|Tidak Hujan: 0.3333333333333333\n",
            "Suhu Rendah=Tidak|Hujan: 0.5\n",
            "Suhu Rendah=Tidak|Tidak Hujan: 0.6666666666666666\n",
            "Awan Gelap=Ya|Hujan: 0.5\n",
            "Awan Gelap=Ya|Tidak Hujan: 0.3333333333333333\n",
            "\n",
            "Langkah 3: Probabilitas Posterior:\n",
            "Probabilitas posterior untuk Hujan|Cuaca: 0.00625\n",
            "Probabilitas posterior untuk Tidak Hujan|Cuaca: 0.0065843621399176945\n",
            "\n",
            "Langkah 4: Prediksi:\n",
            "Prediksi akhir: Tidak Hujan\n"
          ]
        }
      ]
    }
  ]
}